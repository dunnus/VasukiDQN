{
 "cells": [
  {
   "cell_type": "code",
   "execution_count": 1,
   "metadata": {},
   "outputs": [],
   "source": [
    "from environment import Vasuki\n",
    "config = {'n': 8, 'rewards': {'Food': 4, 'Movement': -1, 'Illegal': -2},\n",
    "          'game_length': 100}  # Should not change for evaluation\n",
    "env = Vasuki(**config)\n",
    "\n"
   ]
  },
  {
   "cell_type": "code",
   "execution_count": 2,
   "metadata": {},
   "outputs": [],
   "source": [
    "import numpy as np"
   ]
  },
  {
   "cell_type": "code",
   "execution_count": 3,
   "metadata": {},
   "outputs": [],
   "source": [
    "env.reset()"
   ]
  },
  {
   "cell_type": "code",
   "execution_count": 4,
   "metadata": {},
   "outputs": [],
   "source": [
    "action = {'actionA': 0, 'actionB': 0}\n",
    "rewardA, rewardB, done, info = env.step(action)"
   ]
  },
  {
   "cell_type": "code",
   "execution_count": 5,
   "metadata": {},
   "outputs": [],
   "source": [
    "def get_obs(agent):\n",
    "    obs, _ = env.encode()\n",
    "    head = [0,0,0,0]\n",
    "    if agent == 'agentA':\n",
    "        obs = obs.reshape(-1,1)\n",
    "        score = info['agentA']['score']/100\n",
    "        head[info['agentA']['head']] = 1\n",
    "        head = head.append(score)\n",
    "        obs = np.append(obs,head)\n",
    "        obs = obs.reshape(-1,1)\n",
    "        return obs\n",
    "    elif agent == 'agentB':\n",
    "        temp = obs[2]\n",
    "        obs[2] = obs[3]\n",
    "        obs[3] = temp\n",
    "        head[info['agentB']['head']] = 1\n",
    "        score = info['agentB']['score']/100\n",
    "        head = head.append(score)\n",
    "        obs = np.append(obs,head)\n",
    "        obs = obs.reshape(-1,1)\n",
    "        return obs\n",
    "\n"
   ]
  },
  {
   "cell_type": "code",
   "execution_count": 7,
   "metadata": {},
   "outputs": [
    {
     "name": "stderr",
     "output_type": "stream",
     "text": [
      "C:\\Users\\Arjit\\AppData\\Local\\Programs\\Python\\Python37\\lib\\site-packages\\numpy\\core\\_asarray.py:136: VisibleDeprecationWarning: Creating an ndarray from ragged nested sequences (which is a list-or-tuple of lists-or-tuples-or ndarrays with different lengths or shapes) is deprecated. If you meant to do this, you must specify 'dtype=object' when creating the ndarray\n",
      "  return array(a, dtype, copy=False, order=order, subok=True)\n"
     ]
    }
   ],
   "source": [
    "obs = get_obs('agentA')"
   ]
  },
  {
   "cell_type": "code",
   "execution_count": 51,
   "metadata": {},
   "outputs": [],
   "source": [
    "state = info['agentA']['state']\n",
    "opp_state = info['agentB']['state']\n",
    "head = info['agentA']['head']\n",
    "velocity =  info['agentA']['velocity']\n",
    "n = env.n"
   ]
  },
  {
   "cell_type": "code",
   "execution_count": 52,
   "metadata": {},
   "outputs": [],
   "source": [
    "danger_top = 0\n",
    "danger_left = 0\n",
    "danger_right = 0"
   ]
  },
  {
   "cell_type": "code",
   "execution_count": 20,
   "metadata": {},
   "outputs": [
    {
     "data": {
      "text/plain": [
       "1.0"
      ]
     },
     "execution_count": 20,
     "metadata": {},
     "output_type": "execute_result"
    }
   ],
   "source": [
    "import math\n",
    "distance = []\n",
    "state = info['agentA']['state']\n",
    "for food_loc in env.live_foodspawn_space:\n",
    "    distance.append(((((state[0] - food_loc[0] )**2) + ((state[1]-food_loc[1])**2) )**0.5))\n",
    "min(distance)"
   ]
  },
  {
   "cell_type": "code",
   "execution_count": 17,
   "metadata": {},
   "outputs": [
    {
     "data": {
      "text/plain": [
       "array([[0., 0., 0., 0., 0., 3., 0., 0.],\n",
       "       [0., 0., 0., 0., 0., 0., 1., 0.],\n",
       "       [0., 0., 0., 0., 0., 0., 0., 2.],\n",
       "       [0., 0., 0., 0., 0., 0., 0., 1.],\n",
       "       [0., 1., 0., 0., 0., 0., 0., 0.],\n",
       "       [0., 0., 0., 0., 0., 0., 0., 0.],\n",
       "       [0., 0., 0., 0., 0., 1., 0., 0.],\n",
       "       [0., 0., 0., 0., 0., 0., 0., 0.]])"
      ]
     },
     "execution_count": 17,
     "metadata": {},
     "output_type": "execute_result"
    }
   ],
   "source": [
    "e,s = env.encode()\n",
    "s"
   ]
  },
  {
   "cell_type": "code",
   "execution_count": 16,
   "metadata": {},
   "outputs": [
    {
     "data": {
      "text/plain": [
       "array([[3., 7.],\n",
       "       [1., 6.],\n",
       "       [6., 5.],\n",
       "       [4., 1.]])"
      ]
     },
     "execution_count": 16,
     "metadata": {},
     "output_type": "execute_result"
    }
   ],
   "source": [
    "env.live_foodspawn_space"
   ]
  },
  {
   "cell_type": "code",
   "execution_count": null,
   "metadata": {},
   "outputs": [],
   "source": []
  }
 ],
 "metadata": {
  "interpreter": {
   "hash": "9b480f749ce4ef3b2bb2dc91bb87ab66f696b937cd35ce6ca033d1d9ef37b676"
  },
  "kernelspec": {
   "display_name": "Python 3.7.9 64-bit",
   "language": "python",
   "name": "python3"
  },
  "language_info": {
   "codemirror_mode": {
    "name": "ipython",
    "version": 3
   },
   "file_extension": ".py",
   "mimetype": "text/x-python",
   "name": "python",
   "nbconvert_exporter": "python",
   "pygments_lexer": "ipython3",
   "version": "3.7.9"
  },
  "orig_nbformat": 4
 },
 "nbformat": 4,
 "nbformat_minor": 2
}
